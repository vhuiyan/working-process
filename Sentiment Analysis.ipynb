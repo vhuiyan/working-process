{
 "cells": [
  {
   "cell_type": "code",
   "execution_count": 15,
   "metadata": {},
   "outputs": [],
   "source": [
    "import pandas as pd\n",
    "from nltk.sentiment.vader import SentimentIntensityAnalyzer"
   ]
  },
  {
   "cell_type": "code",
   "execution_count": 16,
   "metadata": {},
   "outputs": [
    {
     "name": "stderr",
     "output_type": "stream",
     "text": [
      "[nltk_data] Downloading package vader_lexicon to\n",
      "[nltk_data]     C:\\Users\\User\\AppData\\Roaming\\nltk_data...\n"
     ]
    },
    {
     "data": {
      "text/plain": [
       "True"
      ]
     },
     "execution_count": 16,
     "metadata": {},
     "output_type": "execute_result"
    }
   ],
   "source": [
    "import nltk\n",
    "nltk.download('vader_lexicon')"
   ]
  },
  {
   "cell_type": "code",
   "execution_count": 17,
   "metadata": {},
   "outputs": [],
   "source": [
    "sid = SentimentIntensityAnalyzer()"
   ]
  },
  {
   "cell_type": "code",
   "execution_count": 18,
   "metadata": {},
   "outputs": [],
   "source": [
    "data = pd.read_csv(\"data.csv\", header=0,encoding = 'unicode_escape')"
   ]
  },
  {
   "cell_type": "code",
   "execution_count": 19,
   "metadata": {},
   "outputs": [
    {
     "data": {
      "text/html": [
       "<div>\n",
       "<style scoped>\n",
       "    .dataframe tbody tr th:only-of-type {\n",
       "        vertical-align: middle;\n",
       "    }\n",
       "\n",
       "    .dataframe tbody tr th {\n",
       "        vertical-align: top;\n",
       "    }\n",
       "\n",
       "    .dataframe thead th {\n",
       "        text-align: right;\n",
       "    }\n",
       "</style>\n",
       "<table border=\"1\" class=\"dataframe\">\n",
       "  <thead>\n",
       "    <tr style=\"text-align: right;\">\n",
       "      <th></th>\n",
       "      <th>title</th>\n",
       "      <th>news</th>\n",
       "    </tr>\n",
       "  </thead>\n",
       "  <tbody>\n",
       "    <tr>\n",
       "      <td>0</td>\n",
       "      <td>Real-go-top-after-win-over-Sevilla\\n</td>\n",
       "      <td>Real Madrid climbed above Barcelona to top La ...</td>\n",
       "    </tr>\n",
       "    <tr>\n",
       "      <td>1</td>\n",
       "      <td>More-extrajudicial-killings-in-USA-than-in\\n</td>\n",
       "      <td>Mentioning that the number of extrajudicial ki...</td>\n",
       "    </tr>\n",
       "    <tr>\n",
       "      <td>2</td>\n",
       "      <td>Road-crashes-claim-seven-lives-in-Jashore\\n</td>\n",
       "      <td>Five women, including three members of a famil...</td>\n",
       "    </tr>\n",
       "    <tr>\n",
       "      <td>3</td>\n",
       "      <td>Wonder-girl-Litun-Jira-receives-aid\\n</td>\n",
       "      <td>A Bangladeshi conglomerate has extended its he...</td>\n",
       "    </tr>\n",
       "    <tr>\n",
       "      <td>4</td>\n",
       "      <td>Utah-home-shooting-leaves-4-dead\\n</td>\n",
       "      <td>Four people were killed and another wounded in...</td>\n",
       "    </tr>\n",
       "  </tbody>\n",
       "</table>\n",
       "</div>"
      ],
      "text/plain": [
       "                                          title  \\\n",
       "0          Real-go-top-after-win-over-Sevilla\\n   \n",
       "1  More-extrajudicial-killings-in-USA-than-in\\n   \n",
       "2   Road-crashes-claim-seven-lives-in-Jashore\\n   \n",
       "3         Wonder-girl-Litun-Jira-receives-aid\\n   \n",
       "4            Utah-home-shooting-leaves-4-dead\\n   \n",
       "\n",
       "                                                news  \n",
       "0  Real Madrid climbed above Barcelona to top La ...  \n",
       "1  Mentioning that the number of extrajudicial ki...  \n",
       "2  Five women, including three members of a famil...  \n",
       "3  A Bangladeshi conglomerate has extended its he...  \n",
       "4  Four people were killed and another wounded in...  "
      ]
     },
     "execution_count": 19,
     "metadata": {},
     "output_type": "execute_result"
    }
   ],
   "source": [
    "data.head()"
   ]
  },
  {
   "cell_type": "code",
   "execution_count": 20,
   "metadata": {},
   "outputs": [],
   "source": [
    "listy = []\n",
    "\n",
    "for index, row in data.iterrows():\n",
    "  ss = sid.polarity_scores(row[\"news\"])\n",
    "  listy.append(ss)\n",
    "  \n",
    "se = pd.Series(listy)\n",
    "data['polarity'] = se.values"
   ]
  },
  {
   "cell_type": "code",
   "execution_count": 21,
   "metadata": {},
   "outputs": [
    {
     "data": {
      "text/html": [
       "<div>\n",
       "<style scoped>\n",
       "    .dataframe tbody tr th:only-of-type {\n",
       "        vertical-align: middle;\n",
       "    }\n",
       "\n",
       "    .dataframe tbody tr th {\n",
       "        vertical-align: top;\n",
       "    }\n",
       "\n",
       "    .dataframe thead th {\n",
       "        text-align: right;\n",
       "    }\n",
       "</style>\n",
       "<table border=\"1\" class=\"dataframe\">\n",
       "  <thead>\n",
       "    <tr style=\"text-align: right;\">\n",
       "      <th></th>\n",
       "      <th>title</th>\n",
       "      <th>news</th>\n",
       "      <th>polarity</th>\n",
       "    </tr>\n",
       "  </thead>\n",
       "  <tbody>\n",
       "    <tr>\n",
       "      <td>0</td>\n",
       "      <td>Real-go-top-after-win-over-Sevilla\\n</td>\n",
       "      <td>Real Madrid climbed above Barcelona to top La ...</td>\n",
       "      <td>{'neg': 0.087, 'neu': 0.84, 'pos': 0.072, 'com...</td>\n",
       "    </tr>\n",
       "    <tr>\n",
       "      <td>1</td>\n",
       "      <td>More-extrajudicial-killings-in-USA-than-in\\n</td>\n",
       "      <td>Mentioning that the number of extrajudicial ki...</td>\n",
       "      <td>{'neg': 0.165, 'neu': 0.816, 'pos': 0.018, 'co...</td>\n",
       "    </tr>\n",
       "    <tr>\n",
       "      <td>2</td>\n",
       "      <td>Road-crashes-claim-seven-lives-in-Jashore\\n</td>\n",
       "      <td>Five women, including three members of a famil...</td>\n",
       "      <td>{'neg': 0.193, 'neu': 0.787, 'pos': 0.02, 'com...</td>\n",
       "    </tr>\n",
       "    <tr>\n",
       "      <td>3</td>\n",
       "      <td>Wonder-girl-Litun-Jira-receives-aid\\n</td>\n",
       "      <td>A Bangladeshi conglomerate has extended its he...</td>\n",
       "      <td>{'neg': 0.021, 'neu': 0.829, 'pos': 0.15, 'com...</td>\n",
       "    </tr>\n",
       "    <tr>\n",
       "      <td>4</td>\n",
       "      <td>Utah-home-shooting-leaves-4-dead\\n</td>\n",
       "      <td>Four people were killed and another wounded in...</td>\n",
       "      <td>{'neg': 0.205, 'neu': 0.761, 'pos': 0.035, 'co...</td>\n",
       "    </tr>\n",
       "    <tr>\n",
       "      <td>5</td>\n",
       "      <td>12-yr-old-boy-arrested-for-raping-first-grader\\n</td>\n",
       "      <td>A 12-year-old boy has been arrested from Kayet...</td>\n",
       "      <td>{'neg': 0.153, 'neu': 0.847, 'pos': 0.0, 'comp...</td>\n",
       "    </tr>\n",
       "    <tr>\n",
       "      <td>6</td>\n",
       "      <td>Zia%E2%80%99s-84th-birth-anniversary-Sunday\\n</td>\n",
       "      <td>BNP will celebrate the 84th birth anniversary ...</td>\n",
       "      <td>{'neg': 0.013, 'neu': 0.885, 'pos': 0.102, 'co...</td>\n",
       "    </tr>\n",
       "    <tr>\n",
       "      <td>7</td>\n",
       "      <td>Dhaka-city-polls-now-on-1-February\\n</td>\n",
       "      <td>Elections to both the Dhaka north city corpora...</td>\n",
       "      <td>{'neg': 0.066, 'neu': 0.892, 'pos': 0.042, 'co...</td>\n",
       "    </tr>\n",
       "    <tr>\n",
       "      <td>8</td>\n",
       "      <td>Arrest-warrant-against-Prothom-Alo-editor\\n</td>\n",
       "      <td>Six leaders of Jatiya Oikya Front in a joint s...</td>\n",
       "      <td>{'neg': 0.073, 'neu': 0.831, 'pos': 0.096, 'co...</td>\n",
       "    </tr>\n",
       "    <tr>\n",
       "      <td>9</td>\n",
       "      <td>SSC-exams-deferred-to-begin-from-3-Feb\\n</td>\n",
       "      <td>The Secondary School Certificate (SSC) and its...</td>\n",
       "      <td>{'neg': 0.014, 'neu': 0.967, 'pos': 0.019, 'co...</td>\n",
       "    </tr>\n",
       "  </tbody>\n",
       "</table>\n",
       "</div>"
      ],
      "text/plain": [
       "                                              title  \\\n",
       "0              Real-go-top-after-win-over-Sevilla\\n   \n",
       "1      More-extrajudicial-killings-in-USA-than-in\\n   \n",
       "2       Road-crashes-claim-seven-lives-in-Jashore\\n   \n",
       "3             Wonder-girl-Litun-Jira-receives-aid\\n   \n",
       "4                Utah-home-shooting-leaves-4-dead\\n   \n",
       "5  12-yr-old-boy-arrested-for-raping-first-grader\\n   \n",
       "6     Zia%E2%80%99s-84th-birth-anniversary-Sunday\\n   \n",
       "7              Dhaka-city-polls-now-on-1-February\\n   \n",
       "8       Arrest-warrant-against-Prothom-Alo-editor\\n   \n",
       "9          SSC-exams-deferred-to-begin-from-3-Feb\\n   \n",
       "\n",
       "                                                news  \\\n",
       "0  Real Madrid climbed above Barcelona to top La ...   \n",
       "1  Mentioning that the number of extrajudicial ki...   \n",
       "2  Five women, including three members of a famil...   \n",
       "3  A Bangladeshi conglomerate has extended its he...   \n",
       "4  Four people were killed and another wounded in...   \n",
       "5  A 12-year-old boy has been arrested from Kayet...   \n",
       "6  BNP will celebrate the 84th birth anniversary ...   \n",
       "7  Elections to both the Dhaka north city corpora...   \n",
       "8  Six leaders of Jatiya Oikya Front in a joint s...   \n",
       "9  The Secondary School Certificate (SSC) and its...   \n",
       "\n",
       "                                            polarity  \n",
       "0  {'neg': 0.087, 'neu': 0.84, 'pos': 0.072, 'com...  \n",
       "1  {'neg': 0.165, 'neu': 0.816, 'pos': 0.018, 'co...  \n",
       "2  {'neg': 0.193, 'neu': 0.787, 'pos': 0.02, 'com...  \n",
       "3  {'neg': 0.021, 'neu': 0.829, 'pos': 0.15, 'com...  \n",
       "4  {'neg': 0.205, 'neu': 0.761, 'pos': 0.035, 'co...  \n",
       "5  {'neg': 0.153, 'neu': 0.847, 'pos': 0.0, 'comp...  \n",
       "6  {'neg': 0.013, 'neu': 0.885, 'pos': 0.102, 'co...  \n",
       "7  {'neg': 0.066, 'neu': 0.892, 'pos': 0.042, 'co...  \n",
       "8  {'neg': 0.073, 'neu': 0.831, 'pos': 0.096, 'co...  \n",
       "9  {'neg': 0.014, 'neu': 0.967, 'pos': 0.019, 'co...  "
      ]
     },
     "execution_count": 21,
     "metadata": {},
     "output_type": "execute_result"
    }
   ],
   "source": [
    "data.head(10)"
   ]
  },
  {
   "cell_type": "code",
   "execution_count": 23,
   "metadata": {},
   "outputs": [
    {
     "ename": "PermissionError",
     "evalue": "[Errno 13] Permission denied: 'sentiment.csv'",
     "output_type": "error",
     "traceback": [
      "\u001b[1;31m---------------------------------------------------------------------------\u001b[0m",
      "\u001b[1;31mPermissionError\u001b[0m                           Traceback (most recent call last)",
      "\u001b[1;32m<ipython-input-23-f77d6960a896>\u001b[0m in \u001b[0;36m<module>\u001b[1;34m\u001b[0m\n\u001b[1;32m----> 1\u001b[1;33m \u001b[0mdata\u001b[0m\u001b[1;33m.\u001b[0m\u001b[0mto_csv\u001b[0m\u001b[1;33m(\u001b[0m\u001b[1;34m'sentiment.csv'\u001b[0m\u001b[1;33m)\u001b[0m\u001b[1;33m\u001b[0m\u001b[1;33m\u001b[0m\u001b[0m\n\u001b[0m",
      "\u001b[1;32m~\\Anaconda3\\lib\\site-packages\\pandas\\core\\generic.py\u001b[0m in \u001b[0;36mto_csv\u001b[1;34m(self, path_or_buf, sep, na_rep, float_format, columns, header, index, index_label, mode, encoding, compression, quoting, quotechar, line_terminator, chunksize, date_format, doublequote, escapechar, decimal)\u001b[0m\n\u001b[0;32m   3226\u001b[0m             \u001b[0mdecimal\u001b[0m\u001b[1;33m=\u001b[0m\u001b[0mdecimal\u001b[0m\u001b[1;33m,\u001b[0m\u001b[1;33m\u001b[0m\u001b[1;33m\u001b[0m\u001b[0m\n\u001b[0;32m   3227\u001b[0m         )\n\u001b[1;32m-> 3228\u001b[1;33m         \u001b[0mformatter\u001b[0m\u001b[1;33m.\u001b[0m\u001b[0msave\u001b[0m\u001b[1;33m(\u001b[0m\u001b[1;33m)\u001b[0m\u001b[1;33m\u001b[0m\u001b[1;33m\u001b[0m\u001b[0m\n\u001b[0m\u001b[0;32m   3229\u001b[0m \u001b[1;33m\u001b[0m\u001b[0m\n\u001b[0;32m   3230\u001b[0m         \u001b[1;32mif\u001b[0m \u001b[0mpath_or_buf\u001b[0m \u001b[1;32mis\u001b[0m \u001b[1;32mNone\u001b[0m\u001b[1;33m:\u001b[0m\u001b[1;33m\u001b[0m\u001b[1;33m\u001b[0m\u001b[0m\n",
      "\u001b[1;32m~\\Anaconda3\\lib\\site-packages\\pandas\\io\\formats\\csvs.py\u001b[0m in \u001b[0;36msave\u001b[1;34m(self)\u001b[0m\n\u001b[0;32m    181\u001b[0m                 \u001b[0mself\u001b[0m\u001b[1;33m.\u001b[0m\u001b[0mmode\u001b[0m\u001b[1;33m,\u001b[0m\u001b[1;33m\u001b[0m\u001b[1;33m\u001b[0m\u001b[0m\n\u001b[0;32m    182\u001b[0m                 \u001b[0mencoding\u001b[0m\u001b[1;33m=\u001b[0m\u001b[0mself\u001b[0m\u001b[1;33m.\u001b[0m\u001b[0mencoding\u001b[0m\u001b[1;33m,\u001b[0m\u001b[1;33m\u001b[0m\u001b[1;33m\u001b[0m\u001b[0m\n\u001b[1;32m--> 183\u001b[1;33m                 \u001b[0mcompression\u001b[0m\u001b[1;33m=\u001b[0m\u001b[0mself\u001b[0m\u001b[1;33m.\u001b[0m\u001b[0mcompression\u001b[0m\u001b[1;33m,\u001b[0m\u001b[1;33m\u001b[0m\u001b[1;33m\u001b[0m\u001b[0m\n\u001b[0m\u001b[0;32m    184\u001b[0m             )\n\u001b[0;32m    185\u001b[0m             \u001b[0mclose\u001b[0m \u001b[1;33m=\u001b[0m \u001b[1;32mTrue\u001b[0m\u001b[1;33m\u001b[0m\u001b[1;33m\u001b[0m\u001b[0m\n",
      "\u001b[1;32m~\\Anaconda3\\lib\\site-packages\\pandas\\io\\common.py\u001b[0m in \u001b[0;36m_get_handle\u001b[1;34m(path_or_buf, mode, encoding, compression, memory_map, is_text)\u001b[0m\n\u001b[0;32m    397\u001b[0m         \u001b[1;32mif\u001b[0m \u001b[0mencoding\u001b[0m\u001b[1;33m:\u001b[0m\u001b[1;33m\u001b[0m\u001b[1;33m\u001b[0m\u001b[0m\n\u001b[0;32m    398\u001b[0m             \u001b[1;31m# Encoding\u001b[0m\u001b[1;33m\u001b[0m\u001b[1;33m\u001b[0m\u001b[1;33m\u001b[0m\u001b[0m\n\u001b[1;32m--> 399\u001b[1;33m             \u001b[0mf\u001b[0m \u001b[1;33m=\u001b[0m \u001b[0mopen\u001b[0m\u001b[1;33m(\u001b[0m\u001b[0mpath_or_buf\u001b[0m\u001b[1;33m,\u001b[0m \u001b[0mmode\u001b[0m\u001b[1;33m,\u001b[0m \u001b[0mencoding\u001b[0m\u001b[1;33m=\u001b[0m\u001b[0mencoding\u001b[0m\u001b[1;33m,\u001b[0m \u001b[0mnewline\u001b[0m\u001b[1;33m=\u001b[0m\u001b[1;34m\"\"\u001b[0m\u001b[1;33m)\u001b[0m\u001b[1;33m\u001b[0m\u001b[1;33m\u001b[0m\u001b[0m\n\u001b[0m\u001b[0;32m    400\u001b[0m         \u001b[1;32melif\u001b[0m \u001b[0mis_text\u001b[0m\u001b[1;33m:\u001b[0m\u001b[1;33m\u001b[0m\u001b[1;33m\u001b[0m\u001b[0m\n\u001b[0;32m    401\u001b[0m             \u001b[1;31m# No explicit encoding\u001b[0m\u001b[1;33m\u001b[0m\u001b[1;33m\u001b[0m\u001b[1;33m\u001b[0m\u001b[0m\n",
      "\u001b[1;31mPermissionError\u001b[0m: [Errno 13] Permission denied: 'sentiment.csv'"
     ]
    }
   ],
   "source": [
    "data.to_csv('sentiment.csv') "
   ]
  },
  {
   "cell_type": "code",
   "execution_count": null,
   "metadata": {},
   "outputs": [],
   "source": []
  },
  {
   "cell_type": "code",
   "execution_count": null,
   "metadata": {},
   "outputs": [],
   "source": []
  }
 ],
 "metadata": {
  "kernelspec": {
   "display_name": "Python 3",
   "language": "python",
   "name": "python3"
  },
  "language_info": {
   "codemirror_mode": {
    "name": "ipython",
    "version": 3
   },
   "file_extension": ".py",
   "mimetype": "text/x-python",
   "name": "python",
   "nbconvert_exporter": "python",
   "pygments_lexer": "ipython3",
   "version": "3.7.4"
  }
 },
 "nbformat": 4,
 "nbformat_minor": 2
}
